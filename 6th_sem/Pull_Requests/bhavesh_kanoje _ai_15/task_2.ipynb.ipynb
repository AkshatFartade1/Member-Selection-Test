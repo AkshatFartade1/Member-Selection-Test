def factorial_digit_sum(n):
    factorial_digits = [1]  # Initialize with 1 (representing 1!)
    for i in range(2, n + 1):
        carry = 0
        for j in range(len(factorial_digits)):
            product = factorial_digits[j] * i + carry
            factorial_digits[j] = product % 10  # Update current digit
            carry = product // 10  # Calculate carry
        while carry:
            factorial_digits.append(carry % 10)  # Add remaining digits as new elements
            carry //= 10
    print("Factorial digits:", factorial_digits)
    return sum(factorial_digits)

# Example: Calculate the sum of digits in 100!
n = 100
result = factorial_digit_sum(n)
print("The sum of the digits in the number {}! is: {}".format(n, result))

